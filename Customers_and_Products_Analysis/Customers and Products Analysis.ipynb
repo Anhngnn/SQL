{
 "cells": [
  {
   "cell_type": "code",
   "execution_count": 1,
   "id": "6f2aaad1",
   "metadata": {},
   "outputs": [],
   "source": [
    "import pandas as pd\n",
    "import numpy as np\n",
    "import matplotlib.pyplot as plt\n",
    "import seaborn as sns"
   ]
  },
  {
   "cell_type": "code",
   "execution_count": 2,
   "id": "5b7edb68",
   "metadata": {},
   "outputs": [],
   "source": [
    "import pyodbc"
   ]
  },
  {
   "cell_type": "markdown",
   "id": "7853acf5",
   "metadata": {},
   "source": [
    "# GIỚI THIỆU DỰ ÁN\n",
    "1. Mục tiêu của dự án:  Phân tích khách hàng và sản phẩm là phân tích dữ liệu từ cơ sở dữ liệu hồ sơ bán hàng dành cho ô tô mô hình quy mô và trích xuất thông tin để đưa ra quyết định.\n",
    "\n",
    "\n",
    "2. Một số câu hỏi dành cho dự án:\n",
    "\n",
    "   a/ Chúng ta nên đặt mua nhiều hay ít sản phẩm nào? \n",
    "\n",
    "   b/ Chúng ta nên điều chỉnh chiến lược tiếp thị và truyền thông như thế nào cho phù hợp với hành vi của khách hàng\n",
    "\n",
    "   c/ Chúng ta có thể chi bao nhiêu tiền để có được khách hàng mới\n"
   ]
  },
  {
   "cell_type": "markdown",
   "id": "60615f6c",
   "metadata": {},
   "source": [
    "# TỔNG QUAN VỀ DỮ LIỆU\n",
    "Dữ liệu của một đại lý bán xe, gồm 8 bảng:\n",
    "\n",
    "- Customers: dữ liệu khách hàng \n",
    "- Employees: tất cả thông tin nhân viên\n",
    "- Offices: thông tin văn phòng bán hàng\n",
    "- Orders: Đơn đặt hàng của khách hàng\n",
    "- OrderDetails: Chi tiết thông tin bán hàng cho mỗi đơn hàng\n",
    "- Payments: Hồ sơ thanh toán của khách hàng\n",
    "- Products: Danh sách xe mô hình\n",
    "- ProductLines: Danh sách các dòng sản phẩm\n",
    "\n",
    "Dưới đây là sơ đồ relationship giữa các bảng:"
   ]
  },
  {
   "cell_type": "markdown",
   "id": "2502c938",
   "metadata": {},
   "source": [
    "![](relationship.png)"
   ]
  },
  {
   "cell_type": "markdown",
   "id": "6dbe9bf3",
   "metadata": {},
   "source": [
    "# KẾT NỐI PYTHON VỚI SQL SERVER:"
   ]
  },
  {
   "cell_type": "code",
   "execution_count": 10,
   "id": "83157b08",
   "metadata": {},
   "outputs": [],
   "source": [
    "conn = pyodbc.connect('DRIVER={SQL Server}; SERVER=DESKTOP-6J6UI2N\\ANH; Database=stores; TRUSTED_CONNECTION=yes')"
   ]
  },
  {
   "cell_type": "markdown",
   "id": "4e5ca799",
   "metadata": {},
   "source": [
    "# TÌM HIỂU DỮ LIỆU"
   ]
  },
  {
   "cell_type": "code",
   "execution_count": 20,
   "id": "c9b107c6",
   "metadata": {},
   "outputs": [],
   "source": [
    "query = ''' \n",
    "SELECT 'Customers' AS Table_name, '13' AS Số_thuộc_tính, COUNT(*) AS Số_hàng FROM Customers\n",
    "UNION ALL\n",
    "SELECT 'Employees' AS Table_name,'8' as Số_thuộc_tính, COUNT(*) AS Số_hàng FROM employees\n",
    "UNION ALL\n",
    "SELECT 'Offices' AS Table_name, '9' AS Số_thuộc_tính, COUNT(*) AS Số_hàng FROM offices\n",
    "UNION ALL\n",
    "SELECT 'Order' AS Table_name, '7' AS Số_thuộc_tính, COUNT(*) AS Số_hàng FROM orders\n",
    "UNION ALL\n",
    "SELECT 'Orderdetails' AS Table_name, '5' AS Số_thuộc_tính, COUNT(*) AS Số_hàng FROM orderdetails\n",
    "UNION ALL\n",
    "SELECT 'Payments' AS Table_name, '4' AS Số_thuộc_tính, COUNT(*) AS Số_hàng FROM payments\n",
    "UNION ALL\n",
    "SELECT 'Products' AS Table_name, '9' AS Số_thuộc_tính, COUNT(*) AS Số_hàng FROM products\n",
    "UNION ALL\n",
    "SELECT 'Productline' AS Table_name, '4' AS Số_thuộc_tính, COUNT(*) AS Số_hàng FROM Productlines\n",
    "'''"
   ]
  },
  {
   "cell_type": "code",
   "execution_count": 24,
   "id": "422aebac",
   "metadata": {},
   "outputs": [
    {
     "name": "stderr",
     "output_type": "stream",
     "text": [
      "C:\\Users\\DELL\\AppData\\Local\\Temp\\ipykernel_13584\\1810578856.py:1: UserWarning: pandas only supports SQLAlchemy connectable (engine/connection) or database string URI or sqlite3 DBAPI2 connection. Other DBAPI2 objects are not tested. Please consider using SQLAlchemy.\n",
      "  detail_table = pd.read_sql_query(query,conn)\n"
     ]
    }
   ],
   "source": [
    "detail_table = pd.read_sql_query(query,conn)"
   ]
  },
  {
   "cell_type": "code",
   "execution_count": 25,
   "id": "90673987",
   "metadata": {},
   "outputs": [
    {
     "data": {
      "text/html": [
       "<div>\n",
       "<style scoped>\n",
       "    .dataframe tbody tr th:only-of-type {\n",
       "        vertical-align: middle;\n",
       "    }\n",
       "\n",
       "    .dataframe tbody tr th {\n",
       "        vertical-align: top;\n",
       "    }\n",
       "\n",
       "    .dataframe thead th {\n",
       "        text-align: right;\n",
       "    }\n",
       "</style>\n",
       "<table border=\"1\" class=\"dataframe\">\n",
       "  <thead>\n",
       "    <tr style=\"text-align: right;\">\n",
       "      <th></th>\n",
       "      <th>Table_name</th>\n",
       "      <th>Số_thuộc_tính</th>\n",
       "      <th>Số_hàng</th>\n",
       "    </tr>\n",
       "  </thead>\n",
       "  <tbody>\n",
       "    <tr>\n",
       "      <th>0</th>\n",
       "      <td>Customers</td>\n",
       "      <td>13</td>\n",
       "      <td>122</td>\n",
       "    </tr>\n",
       "    <tr>\n",
       "      <th>1</th>\n",
       "      <td>Employees</td>\n",
       "      <td>8</td>\n",
       "      <td>23</td>\n",
       "    </tr>\n",
       "    <tr>\n",
       "      <th>2</th>\n",
       "      <td>Offices</td>\n",
       "      <td>9</td>\n",
       "      <td>7</td>\n",
       "    </tr>\n",
       "    <tr>\n",
       "      <th>3</th>\n",
       "      <td>Order</td>\n",
       "      <td>7</td>\n",
       "      <td>326</td>\n",
       "    </tr>\n",
       "    <tr>\n",
       "      <th>4</th>\n",
       "      <td>Orderdetails</td>\n",
       "      <td>5</td>\n",
       "      <td>2996</td>\n",
       "    </tr>\n",
       "    <tr>\n",
       "      <th>5</th>\n",
       "      <td>Payments</td>\n",
       "      <td>4</td>\n",
       "      <td>273</td>\n",
       "    </tr>\n",
       "    <tr>\n",
       "      <th>6</th>\n",
       "      <td>Products</td>\n",
       "      <td>9</td>\n",
       "      <td>110</td>\n",
       "    </tr>\n",
       "    <tr>\n",
       "      <th>7</th>\n",
       "      <td>Productline</td>\n",
       "      <td>4</td>\n",
       "      <td>7</td>\n",
       "    </tr>\n",
       "  </tbody>\n",
       "</table>\n",
       "</div>"
      ],
      "text/plain": [
       "     Table_name Số_thuộc_tính  Số_hàng\n",
       "0     Customers            13      122\n",
       "1     Employees             8       23\n",
       "2       Offices             9        7\n",
       "3         Order             7      326\n",
       "4  Orderdetails             5     2996\n",
       "5      Payments             4      273\n",
       "6      Products             9      110\n",
       "7   Productline             4        7"
      ]
     },
     "execution_count": 25,
     "metadata": {},
     "output_type": "execute_result"
    }
   ],
   "source": [
    "detail_table"
   ]
  },
  {
   "cell_type": "markdown",
   "id": "aaa87552",
   "metadata": {},
   "source": [
    "# PHÂN TÍCH DỮ LIỆU"
   ]
  },
  {
   "cell_type": "markdown",
   "id": "9f26ac1e",
   "metadata": {},
   "source": [
    "## •\tCâu hỏi 1: Chúng ta nên đặt hàng nhiều hay ít sản phẩm nào?"
   ]
  },
  {
   "cell_type": "markdown",
   "id": "2482cd7b",
   "metadata": {},
   "source": [
    "- Câu hỏi này đề cập dến báo cáo về hàng tồn kho, bao gồm cả lượng hàng tồn kho thấp (tức là sản phẩm đang được người tiêu dùng quan tâm) và hiệu suất của sản phẩm. Điều này sẽ tối ưu hóa nguồn cung và trải nghiệm người tiêu dùng bằng cách ngăn chặn các sản phẩm bán chạy nhất bị hết hàng\n",
    "\n",
    "- Lượng hàng tồn kho thấp thể hiện số lượng của mỗi sản phẩm được tính bằng số lượng đặt hàng chia cho số lượng sản phẩm trong kho. Chúng ta có thể xem xét 10 tỷ lệ cao nhất và đây sẽ là top 10 sản phẩm gần như hết hàng hoặc hết hàng hoàn toàn.\n",
    "\n",
    " TỶ LỆ HÀNG TỒN KHO   =  SUM(quantityOrdered)/ QuantityInStocK\n",
    "\n",
    "- Hiệu suất sản phẩm thể hiện tổng doanh thu trên mỗi sản phẩm\n",
    "\n",
    " HIỆU SUẤT SẢN PHẨM = \"SUM(quantityOrdered x priceEach)\" "
   ]
  },
  {
   "cell_type": "markdown",
   "id": "355e8e7b",
   "metadata": {},
   "source": [
    "### TOP 10 SẢN PHẨM CÓ HIỆU SUẤT SẢN PHẨM CAO NHẤT"
   ]
  },
  {
   "cell_type": "code",
   "execution_count": 35,
   "id": "9e9ba76c",
   "metadata": {},
   "outputs": [],
   "source": [
    "query_1 = '''\n",
    "SELECT TOP 10 productCode,\n",
    "       SUM(quantityOrdered * priceEach) as product_performance\n",
    "FROM orderdetails\n",
    "GROUP BY productCode\n",
    "ORDER BY product_performance DESC'''"
   ]
  },
  {
   "cell_type": "code",
   "execution_count": 36,
   "id": "0d539985",
   "metadata": {},
   "outputs": [
    {
     "name": "stderr",
     "output_type": "stream",
     "text": [
      "C:\\Users\\DELL\\AppData\\Local\\Temp\\ipykernel_13584\\106039975.py:1: UserWarning: pandas only supports SQLAlchemy connectable (engine/connection) or database string URI or sqlite3 DBAPI2 connection. Other DBAPI2 objects are not tested. Please consider using SQLAlchemy.\n",
      "  prfm = pd.read_sql_query(query_1, conn)\n"
     ]
    }
   ],
   "source": [
    "prfm = pd.read_sql_query(query_1, conn)"
   ]
  },
  {
   "cell_type": "code",
   "execution_count": 37,
   "id": "d9857fa2",
   "metadata": {},
   "outputs": [
    {
     "data": {
      "text/html": [
       "<div>\n",
       "<style scoped>\n",
       "    .dataframe tbody tr th:only-of-type {\n",
       "        vertical-align: middle;\n",
       "    }\n",
       "\n",
       "    .dataframe tbody tr th {\n",
       "        vertical-align: top;\n",
       "    }\n",
       "\n",
       "    .dataframe thead th {\n",
       "        text-align: right;\n",
       "    }\n",
       "</style>\n",
       "<table border=\"1\" class=\"dataframe\">\n",
       "  <thead>\n",
       "    <tr style=\"text-align: right;\">\n",
       "      <th></th>\n",
       "      <th>productCode</th>\n",
       "      <th>product_performance</th>\n",
       "    </tr>\n",
       "  </thead>\n",
       "  <tbody>\n",
       "    <tr>\n",
       "      <th>0</th>\n",
       "      <td>S18_3232</td>\n",
       "      <td>276839.98</td>\n",
       "    </tr>\n",
       "    <tr>\n",
       "      <th>1</th>\n",
       "      <td>S12_1108</td>\n",
       "      <td>190755.86</td>\n",
       "    </tr>\n",
       "    <tr>\n",
       "      <th>2</th>\n",
       "      <td>S10_1949</td>\n",
       "      <td>190017.96</td>\n",
       "    </tr>\n",
       "    <tr>\n",
       "      <th>3</th>\n",
       "      <td>S10_4698</td>\n",
       "      <td>170686.00</td>\n",
       "    </tr>\n",
       "    <tr>\n",
       "      <th>4</th>\n",
       "      <td>S12_1099</td>\n",
       "      <td>161531.48</td>\n",
       "    </tr>\n",
       "    <tr>\n",
       "      <th>5</th>\n",
       "      <td>S12_3891</td>\n",
       "      <td>152543.02</td>\n",
       "    </tr>\n",
       "    <tr>\n",
       "      <th>6</th>\n",
       "      <td>S18_1662</td>\n",
       "      <td>144959.91</td>\n",
       "    </tr>\n",
       "    <tr>\n",
       "      <th>7</th>\n",
       "      <td>S18_2238</td>\n",
       "      <td>142530.63</td>\n",
       "    </tr>\n",
       "    <tr>\n",
       "      <th>8</th>\n",
       "      <td>S18_1749</td>\n",
       "      <td>140535.60</td>\n",
       "    </tr>\n",
       "    <tr>\n",
       "      <th>9</th>\n",
       "      <td>S12_2823</td>\n",
       "      <td>135767.03</td>\n",
       "    </tr>\n",
       "  </tbody>\n",
       "</table>\n",
       "</div>"
      ],
      "text/plain": [
       "  productCode  product_performance\n",
       "0    S18_3232            276839.98\n",
       "1    S12_1108            190755.86\n",
       "2    S10_1949            190017.96\n",
       "3    S10_4698            170686.00\n",
       "4    S12_1099            161531.48\n",
       "5    S12_3891            152543.02\n",
       "6    S18_1662            144959.91\n",
       "7    S18_2238            142530.63\n",
       "8    S18_1749            140535.60\n",
       "9    S12_2823            135767.03"
      ]
     },
     "execution_count": 37,
     "metadata": {},
     "output_type": "execute_result"
    }
   ],
   "source": [
    "prfm"
   ]
  },
  {
   "cell_type": "code",
   "execution_count": 40,
   "id": "99e3d088",
   "metadata": {},
   "outputs": [
    {
     "data": {
      "image/png": "[encoded data removed]",
      "text/plain": [
       "<Figure size 640x480 with 1 Axes>"
      ]
     },
     "metadata": {},
     "output_type": "display_data"
    }
   ],
   "source": [
    "plt.bar(prfm['productCode'], prfm['product_performance'])\n",
    "plt.xticks(rotation = 45)\n",
    "plt.show()"
   ]
  },
  {
   "cell_type": "markdown",
   "id": "44d0afee",
   "metadata": {},
   "source": [
    "### TOP 10 SẢN PHẨM CÓ TỶ LỆ TỒN KHO THẤP NHẤT"
   ]
  },
  {
   "cell_type": "code",
   "execution_count": 44,
   "id": "897f29ce",
   "metadata": {},
   "outputs": [],
   "source": [
    "query_2 = '''\n",
    "SELECT TOP 10 od.productCode, \n",
    "       ROUND(SUM(quantityOrdered)/(SELECT quantityInStock\n",
    "                                  FROM products as p \n",
    "                                  WHERE p.productCode = od.ProductCode),2) AS low_stock\n",
    "FROM orderdetails AS od\n",
    "GROUP BY od.productCode\n",
    "ORDER BY low_stock\n",
    "'''"
   ]
  },
  {
   "cell_type": "code",
   "execution_count": 45,
   "id": "4283d15d",
   "metadata": {},
   "outputs": [
    {
     "name": "stderr",
     "output_type": "stream",
     "text": [
      "C:\\Users\\DELL\\AppData\\Local\\Temp\\ipykernel_13584\\3671449695.py:1: UserWarning: pandas only supports SQLAlchemy connectable (engine/connection) or database string URI or sqlite3 DBAPI2 connection. Other DBAPI2 objects are not tested. Please consider using SQLAlchemy.\n",
      "  lowstock = pd.read_sql_query(query_2,conn)\n"
     ]
    }
   ],
   "source": [
    "lowstock = pd.read_sql_query(query_2,conn)"
   ]
  },
  {
   "cell_type": "code",
   "execution_count": 46,
   "id": "1d96364f",
   "metadata": {},
   "outputs": [
    {
     "data": {
      "text/html": [
       "<div>\n",
       "<style scoped>\n",
       "    .dataframe tbody tr th:only-of-type {\n",
       "        vertical-align: middle;\n",
       "    }\n",
       "\n",
       "    .dataframe tbody tr th {\n",
       "        vertical-align: top;\n",
       "    }\n",
       "\n",
       "    .dataframe thead th {\n",
       "        text-align: right;\n",
       "    }\n",
       "</style>\n",
       "<table border=\"1\" class=\"dataframe\">\n",
       "  <thead>\n",
       "    <tr style=\"text-align: right;\">\n",
       "      <th></th>\n",
       "      <th>productCode</th>\n",
       "      <th>low_stock</th>\n",
       "    </tr>\n",
       "  </thead>\n",
       "  <tbody>\n",
       "    <tr>\n",
       "      <th>0</th>\n",
       "      <td>S18_1984</td>\n",
       "      <td>0.09</td>\n",
       "    </tr>\n",
       "    <tr>\n",
       "      <th>1</th>\n",
       "      <td>S24_3432</td>\n",
       "      <td>0.09</td>\n",
       "    </tr>\n",
       "    <tr>\n",
       "      <th>2</th>\n",
       "      <td>S12_3380</td>\n",
       "      <td>0.10</td>\n",
       "    </tr>\n",
       "    <tr>\n",
       "      <th>3</th>\n",
       "      <td>S32_2206</td>\n",
       "      <td>0.10</td>\n",
       "    </tr>\n",
       "    <tr>\n",
       "      <th>4</th>\n",
       "      <td>S700_2466</td>\n",
       "      <td>0.10</td>\n",
       "    </tr>\n",
       "    <tr>\n",
       "      <th>5</th>\n",
       "      <td>S18_2325</td>\n",
       "      <td>0.10</td>\n",
       "    </tr>\n",
       "    <tr>\n",
       "      <th>6</th>\n",
       "      <td>S18_2870</td>\n",
       "      <td>0.10</td>\n",
       "    </tr>\n",
       "    <tr>\n",
       "      <th>7</th>\n",
       "      <td>S12_2823</td>\n",
       "      <td>0.10</td>\n",
       "    </tr>\n",
       "    <tr>\n",
       "      <th>8</th>\n",
       "      <td>S18_3482</td>\n",
       "      <td>0.10</td>\n",
       "    </tr>\n",
       "    <tr>\n",
       "      <th>9</th>\n",
       "      <td>S18_1589</td>\n",
       "      <td>0.10</td>\n",
       "    </tr>\n",
       "  </tbody>\n",
       "</table>\n",
       "</div>"
      ],
      "text/plain": [
       "  productCode  low_stock\n",
       "0    S18_1984       0.09\n",
       "1    S24_3432       0.09\n",
       "2    S12_3380       0.10\n",
       "3    S32_2206       0.10\n",
       "4   S700_2466       0.10\n",
       "5    S18_2325       0.10\n",
       "6    S18_2870       0.10\n",
       "7    S12_2823       0.10\n",
       "8    S18_3482       0.10\n",
       "9    S18_1589       0.10"
      ]
     },
     "execution_count": 46,
     "metadata": {},
     "output_type": "execute_result"
    }
   ],
   "source": [
    "lowstock"
   ]
  },
  {
   "cell_type": "code",
   "execution_count": 53,
   "id": "aae7fd60",
   "metadata": {},
   "outputs": [
    {
     "data": {
      "image/png": "[encoded data removed]",
      "text/plain": [
       "<Figure size 640x480 with 1 Axes>"
      ]
     },
     "metadata": {},
     "output_type": "display_data"
    }
   ],
   "source": [
    "plt.barh(lowstock['productCode'], lowstock['low_stock'])\n",
    "plt.show()"
   ]
  },
  {
   "cell_type": "markdown",
   "id": "110961f0",
   "metadata": {},
   "source": [
    "### Các sản phẩm ưu tiên nhập kho là những sản phẩm có hiệu suất sản phẩm cao và đang có nguy cơ hết hàng"
   ]
  },
  {
   "cell_type": "code",
   "execution_count": 48,
   "id": "0daaf802",
   "metadata": {},
   "outputs": [],
   "source": [
    "query_3 = '''\n",
    "WITH \n",
    "prfm AS (\n",
    "SELECT productCode,\n",
    "       sum(quantityOrdered) as sum_quan,\n",
    "       sum(quantityOrdered * priceEach) as product_performance\n",
    "FROM orderdetails\n",
    "GROUP BY productCode\n",
    "),\n",
    "lowstock AS (\n",
    "SELECT TOP 10 p.productCode, p.productName, p.productLine,\n",
    "       SUM(quantityOrdered) as sum_quan,\n",
    "       ROUND(SUM(quantityOrdered)/p.quantityInStock,2) as low_stock\n",
    "FROM products AS p \n",
    "JOIN orderdetails AS od ON p.productCode = od.productCode\n",
    "GROUP BY p.productCode, p.productName,p.productLine, p.quantityInStock\n",
    "ORDER BY low_stock\n",
    ")\n",
    "SELECT pr.productCode,\n",
    "       ls.productName,\n",
    "       ls.productLine,\n",
    "       pr.product_performance,\n",
    "       ls.low_stock,\n",
    "       ls.sum_quan\n",
    "FROM lowstock AS ls\n",
    "JOIN prfm AS pr ON pr.productCode = ls.productCode\n",
    "ORDER BY pr.product_performance DESC\n",
    "'''"
   ]
  },
  {
   "cell_type": "code",
   "execution_count": 49,
   "id": "64a7928d",
   "metadata": {},
   "outputs": [
    {
     "name": "stderr",
     "output_type": "stream",
     "text": [
      "C:\\Users\\DELL\\AppData\\Local\\Temp\\ipykernel_13584\\2621762489.py:1: UserWarning: pandas only supports SQLAlchemy connectable (engine/connection) or database string URI or sqlite3 DBAPI2 connection. Other DBAPI2 objects are not tested. Please consider using SQLAlchemy.\n",
      "  ques_1 = pd.read_sql_query(query_3, conn)\n"
     ]
    }
   ],
   "source": [
    "ques_1 = pd.read_sql_query(query_3, conn)"
   ]
  },
  {
   "cell_type": "code",
   "execution_count": 50,
   "id": "d916e3ab",
   "metadata": {},
   "outputs": [
    {
     "data": {
      "text/html": [
       "<div>\n",
       "<style scoped>\n",
       "    .dataframe tbody tr th:only-of-type {\n",
       "        vertical-align: middle;\n",
       "    }\n",
       "\n",
       "    .dataframe tbody tr th {\n",
       "        vertical-align: top;\n",
       "    }\n",
       "\n",
       "    .dataframe thead th {\n",
       "        text-align: right;\n",
       "    }\n",
       "</style>\n",
       "<table border=\"1\" class=\"dataframe\">\n",
       "  <thead>\n",
       "    <tr style=\"text-align: right;\">\n",
       "      <th></th>\n",
       "      <th>productCode</th>\n",
       "      <th>productName</th>\n",
       "      <th>productLine</th>\n",
       "      <th>product_performance</th>\n",
       "      <th>low_stock</th>\n",
       "      <th>sum_quan</th>\n",
       "    </tr>\n",
       "  </thead>\n",
       "  <tbody>\n",
       "    <tr>\n",
       "      <th>0</th>\n",
       "      <td>S12_2823</td>\n",
       "      <td>2002 Suzuki XREO</td>\n",
       "      <td>Motorcycles</td>\n",
       "      <td>135767.03</td>\n",
       "      <td>0.10</td>\n",
       "      <td>1028.0</td>\n",
       "    </tr>\n",
       "    <tr>\n",
       "      <th>1</th>\n",
       "      <td>S18_3482</td>\n",
       "      <td>1976 Ford Gran Torino</td>\n",
       "      <td>Classic Cars</td>\n",
       "      <td>121890.60</td>\n",
       "      <td>0.10</td>\n",
       "      <td>915.0</td>\n",
       "    </tr>\n",
       "    <tr>\n",
       "      <th>2</th>\n",
       "      <td>S18_1984</td>\n",
       "      <td>1995 Honda Civic</td>\n",
       "      <td>Classic Cars</td>\n",
       "      <td>119050.95</td>\n",
       "      <td>0.09</td>\n",
       "      <td>917.0</td>\n",
       "    </tr>\n",
       "    <tr>\n",
       "      <th>3</th>\n",
       "      <td>S18_2325</td>\n",
       "      <td>1932 Model A Ford J-Coupe</td>\n",
       "      <td>Vintage Cars</td>\n",
       "      <td>109992.01</td>\n",
       "      <td>0.10</td>\n",
       "      <td>957.0</td>\n",
       "    </tr>\n",
       "    <tr>\n",
       "      <th>4</th>\n",
       "      <td>S18_1589</td>\n",
       "      <td>1965 Aston Martin DB5</td>\n",
       "      <td>Classic Cars</td>\n",
       "      <td>101778.13</td>\n",
       "      <td>0.10</td>\n",
       "      <td>914.0</td>\n",
       "    </tr>\n",
       "    <tr>\n",
       "      <th>5</th>\n",
       "      <td>S18_2870</td>\n",
       "      <td>1999 Indy 500 Monte Carlo SS</td>\n",
       "      <td>Classic Cars</td>\n",
       "      <td>100770.12</td>\n",
       "      <td>0.10</td>\n",
       "      <td>855.0</td>\n",
       "    </tr>\n",
       "    <tr>\n",
       "      <th>6</th>\n",
       "      <td>S12_3380</td>\n",
       "      <td>1968 Dodge Charger</td>\n",
       "      <td>Classic Cars</td>\n",
       "      <td>98718.76</td>\n",
       "      <td>0.10</td>\n",
       "      <td>925.0</td>\n",
       "    </tr>\n",
       "    <tr>\n",
       "      <th>7</th>\n",
       "      <td>S700_2466</td>\n",
       "      <td>America West Airlines B757-200</td>\n",
       "      <td>Planes</td>\n",
       "      <td>89347.80</td>\n",
       "      <td>0.10</td>\n",
       "      <td>984.0</td>\n",
       "    </tr>\n",
       "    <tr>\n",
       "      <th>8</th>\n",
       "      <td>S24_3432</td>\n",
       "      <td>2002 Chevy Corvette</td>\n",
       "      <td>Classic Cars</td>\n",
       "      <td>87404.81</td>\n",
       "      <td>0.09</td>\n",
       "      <td>894.0</td>\n",
       "    </tr>\n",
       "    <tr>\n",
       "      <th>9</th>\n",
       "      <td>S32_2206</td>\n",
       "      <td>1982 Ducati 996 R</td>\n",
       "      <td>Motorcycles</td>\n",
       "      <td>33268.76</td>\n",
       "      <td>0.10</td>\n",
       "      <td>906.0</td>\n",
       "    </tr>\n",
       "  </tbody>\n",
       "</table>\n",
       "</div>"
      ],
      "text/plain": [
       "  productCode                     productName   productLine  \\\n",
       "0    S12_2823                2002 Suzuki XREO   Motorcycles   \n",
       "1    S18_3482           1976 Ford Gran Torino  Classic Cars   \n",
       "2    S18_1984                1995 Honda Civic  Classic Cars   \n",
       "3    S18_2325       1932 Model A Ford J-Coupe  Vintage Cars   \n",
       "4    S18_1589           1965 Aston Martin DB5  Classic Cars   \n",
       "5    S18_2870    1999 Indy 500 Monte Carlo SS  Classic Cars   \n",
       "6    S12_3380              1968 Dodge Charger  Classic Cars   \n",
       "7   S700_2466  America West Airlines B757-200        Planes   \n",
       "8    S24_3432             2002 Chevy Corvette  Classic Cars   \n",
       "9    S32_2206               1982 Ducati 996 R   Motorcycles   \n",
       "\n",
       "   product_performance  low_stock  sum_quan  \n",
       "0            135767.03       0.10    1028.0  \n",
       "1            121890.60       0.10     915.0  \n",
       "2            119050.95       0.09     917.0  \n",
       "3            109992.01       0.10     957.0  \n",
       "4            101778.13       0.10     914.0  \n",
       "5            100770.12       0.10     855.0  \n",
       "6             98718.76       0.10     925.0  \n",
       "7             89347.80       0.10     984.0  \n",
       "8             87404.81       0.09     894.0  \n",
       "9             33268.76       0.10     906.0  "
      ]
     },
     "execution_count": 50,
     "metadata": {},
     "output_type": "execute_result"
    }
   ],
   "source": [
    "ques_1"
   ]
  },
  {
   "cell_type": "markdown",
   "id": "a6b29203",
   "metadata": {},
   "source": [
    "=> Sau khi phân tích kết quả truy vấn đưa ra 10 sản phẩm có lượng hàng tồn kho thấp và hiệu suất sản phẩm cao, nhận thấy trong 10 sản phẩm trên thì có 6 sản phẩm thuộc dòng sản phẩm ‘Classic Cars’. Những sản phẩm này được bán thường xuyên với hiệu suất sản phẩm cao. Vì vậy, chúng ta nên bổ sung chúng lại chúng thường xuyên."
   ]
  },
  {
   "cell_type": "markdown",
   "id": "f4ef9109",
   "metadata": {},
   "source": [
    "## •\tCâu hỏi 2: Chúng ta nên kết hợp chiến lược tiếp thị và truyền thông với hành vi của khách hàng như thế nào?"
   ]
  },
  {
   "cell_type": "markdown",
   "id": "a6de4bdc",
   "metadata": {},
   "source": [
    "- Câu hỏi này được đưa ra để khám phá thông tin khách hàng. Điều này liên quan đến việc phân loại khách hàng: Tìm khách hàng VIP và những người ít tương tác hơn.\n",
    "  + Khách hàng VIP mang lại nhiều lợi nhuận nhất cho cửa hàng.\n",
    "  + Khách hàng ít tương tác sẽ mang lại ít lợi nhuận hơn cho cửa hàng.\n",
    "- Sau khi phân loại khách hàng, chúng ta có thể tổ chức một số sự kiện nâng cao lòng trung thành của các VIP và khởi động chiến dịch dành cho những người ít tham gia hơn.\n",
    "- Để trả lời câu hỏi cần tính toán lợi nhuận cho mỗi khách hàng bằng công thức:\n",
    "      PROFIT PER CUS = SUM(quantityOrdered * (PriceEach - buyPrice))"
   ]
  },
  {
   "cell_type": "markdown",
   "id": "baf6e8b3",
   "metadata": {},
   "source": [
    "### 5 KHÁCH HÀNG MANG LẠI LỢI NHUẬN CAO NHẤT (5 KHÁCH HÀNG VIP)"
   ]
  },
  {
   "cell_type": "code",
   "execution_count": 63,
   "id": "d0e6c4ea",
   "metadata": {},
   "outputs": [],
   "source": [
    "query_4 = '''\n",
    "WITH profit AS\n",
    "(\n",
    "SELECT customerNumber, \n",
    "       SUM(quantityOrdered * (priceEach - buyPrice)) as profit_per_cus\n",
    "FROM products AS p\n",
    "JOIN orderdetails AS od ON p.productCode = od.productCode\n",
    "JOIN orders AS o ON o.orderNumber = od.orderNumber\n",
    "GROUP BY customerNumber\n",
    ")\n",
    "SELECT TOP 5 CONCAT(c.contactFirstName,' ',c.contactLastName) AS customer_name,\n",
    "       c.city,\n",
    "       c.country,\n",
    "       p.profit_per_cus\n",
    "FROM profit AS p\n",
    "JOIN customers AS c ON c.customerNumber = p.customerNumber\n",
    "ORDER BY p.profit_per_cus DESC\n",
    "'''"
   ]
  },
  {
   "cell_type": "code",
   "execution_count": 64,
   "id": "9d758ec7",
   "metadata": {},
   "outputs": [
    {
     "name": "stderr",
     "output_type": "stream",
     "text": [
      "C:\\Users\\DELL\\AppData\\Local\\Temp\\ipykernel_13584\\962310886.py:1: UserWarning: pandas only supports SQLAlchemy connectable (engine/connection) or database string URI or sqlite3 DBAPI2 connection. Other DBAPI2 objects are not tested. Please consider using SQLAlchemy.\n",
      "  top_5_VIP = pd.read_sql_query(query_4, conn)\n"
     ]
    }
   ],
   "source": [
    "top_5_VIP = pd.read_sql_query(query_4, conn)"
   ]
  },
  {
   "cell_type": "code",
   "execution_count": 65,
   "id": "e6ca8e19",
   "metadata": {},
   "outputs": [
    {
     "data": {
      "text/html": [
       "<div>\n",
       "<style scoped>\n",
       "    .dataframe tbody tr th:only-of-type {\n",
       "        vertical-align: middle;\n",
       "    }\n",
       "\n",
       "    .dataframe tbody tr th {\n",
       "        vertical-align: top;\n",
       "    }\n",
       "\n",
       "    .dataframe thead th {\n",
       "        text-align: right;\n",
       "    }\n",
       "</style>\n",
       "<table border=\"1\" class=\"dataframe\">\n",
       "  <thead>\n",
       "    <tr style=\"text-align: right;\">\n",
       "      <th></th>\n",
       "      <th>customer_name</th>\n",
       "      <th>city</th>\n",
       "      <th>country</th>\n",
       "      <th>profit_per_cus</th>\n",
       "    </tr>\n",
       "  </thead>\n",
       "  <tbody>\n",
       "    <tr>\n",
       "      <th>0</th>\n",
       "      <td>Diego  Freyre</td>\n",
       "      <td>Madrid</td>\n",
       "      <td>Spain</td>\n",
       "      <td>326519.66</td>\n",
       "    </tr>\n",
       "    <tr>\n",
       "      <th>1</th>\n",
       "      <td>Susan Nelson</td>\n",
       "      <td>San Rafael</td>\n",
       "      <td>USA</td>\n",
       "      <td>236769.39</td>\n",
       "    </tr>\n",
       "    <tr>\n",
       "      <th>2</th>\n",
       "      <td>Jeff Young</td>\n",
       "      <td>NYC</td>\n",
       "      <td>USA</td>\n",
       "      <td>72370.09</td>\n",
       "    </tr>\n",
       "    <tr>\n",
       "      <th>3</th>\n",
       "      <td>Peter Ferguson</td>\n",
       "      <td>Melbourne</td>\n",
       "      <td>Australia</td>\n",
       "      <td>70311.07</td>\n",
       "    </tr>\n",
       "    <tr>\n",
       "      <th>4</th>\n",
       "      <td>Janine  Labrune</td>\n",
       "      <td>Nantes</td>\n",
       "      <td>France</td>\n",
       "      <td>60875.30</td>\n",
       "    </tr>\n",
       "  </tbody>\n",
       "</table>\n",
       "</div>"
      ],
      "text/plain": [
       "     customer_name        city    country  profit_per_cus\n",
       "0    Diego  Freyre      Madrid      Spain       326519.66\n",
       "1     Susan Nelson  San Rafael        USA       236769.39\n",
       "2       Jeff Young         NYC        USA        72370.09\n",
       "3   Peter Ferguson   Melbourne  Australia        70311.07\n",
       "4  Janine  Labrune      Nantes     France        60875.30"
      ]
     },
     "execution_count": 65,
     "metadata": {},
     "output_type": "execute_result"
    }
   ],
   "source": [
    "top_5_VIP"
   ]
  },
  {
   "cell_type": "code",
   "execution_count": 73,
   "id": "e4c3a127",
   "metadata": {},
   "outputs": [
    {
     "data": {
      "image/png": "[encoded data removed]",
      "text/plain": [
       "<Figure size 640x480 with 1 Axes>"
      ]
     },
     "metadata": {},
     "output_type": "display_data"
    }
   ],
   "source": [
    "plt.bar(top_5_VIP['customer_name'],top_5_VIP['profit_per_cus'])\n",
    "plt.xticks(rotation = 75)\n",
    "plt.xlabel('Customer Name')\n",
    "plt.ylabel('Profit')\n",
    "plt.title('TOP 5 KHÁCH HÀNG VIP')\n",
    "plt.show()"
   ]
  },
  {
   "cell_type": "markdown",
   "id": "3f77c24f",
   "metadata": {},
   "source": [
    "## TOP 5 KHÁCH HÀNG ÍT TƯƠNG TÁC NHẤT"
   ]
  },
  {
   "cell_type": "code",
   "execution_count": 74,
   "id": "7ced4470",
   "metadata": {},
   "outputs": [],
   "source": [
    "query_5 = '''\n",
    "WITH profit AS\n",
    "(\n",
    "SELECT customerNumber, \n",
    "       SUM(quantityOrdered * (priceEach - buyPrice)) as profit_per_cus\n",
    "FROM products AS p\n",
    "JOIN orderdetails AS od ON p.productCode = od.productCode\n",
    "JOIN orders AS o ON o.orderNumber = od.orderNumber\n",
    "GROUP BY customerNumber\n",
    ")\n",
    "SELECT TOP 5 CONCAT(c.contactFirstName,' ',c.contactLastName) AS customer_name,\n",
    "       c.city,\n",
    "       c.country,\n",
    "       p.profit_per_cus\n",
    "FROM profit AS p\n",
    "JOIN customers AS c ON c.customerNumber = p.customerNumber\n",
    "ORDER BY p.profit_per_cus\n",
    "'''"
   ]
  },
  {
   "cell_type": "code",
   "execution_count": 75,
   "id": "5069be31",
   "metadata": {},
   "outputs": [
    {
     "name": "stderr",
     "output_type": "stream",
     "text": [
      "C:\\Users\\DELL\\AppData\\Local\\Temp\\ipykernel_13584\\2054996169.py:1: UserWarning: pandas only supports SQLAlchemy connectable (engine/connection) or database string URI or sqlite3 DBAPI2 connection. Other DBAPI2 objects are not tested. Please consider using SQLAlchemy.\n",
      "  top_5_low_profit = pd.read_sql_query(query_5, conn)\n"
     ]
    }
   ],
   "source": [
    "top_5_low_profit = pd.read_sql_query(query_5, conn)"
   ]
  },
  {
   "cell_type": "code",
   "execution_count": 76,
   "id": "aa06cbf4",
   "metadata": {},
   "outputs": [
    {
     "data": {
      "text/html": [
       "<div>\n",
       "<style scoped>\n",
       "    .dataframe tbody tr th:only-of-type {\n",
       "        vertical-align: middle;\n",
       "    }\n",
       "\n",
       "    .dataframe tbody tr th {\n",
       "        vertical-align: top;\n",
       "    }\n",
       "\n",
       "    .dataframe thead th {\n",
       "        text-align: right;\n",
       "    }\n",
       "</style>\n",
       "<table border=\"1\" class=\"dataframe\">\n",
       "  <thead>\n",
       "    <tr style=\"text-align: right;\">\n",
       "      <th></th>\n",
       "      <th>customer_name</th>\n",
       "      <th>city</th>\n",
       "      <th>country</th>\n",
       "      <th>profit_per_cus</th>\n",
       "    </tr>\n",
       "  </thead>\n",
       "  <tbody>\n",
       "    <tr>\n",
       "      <th>0</th>\n",
       "      <td>Mary Young</td>\n",
       "      <td>Glendale</td>\n",
       "      <td>USA</td>\n",
       "      <td>2610.87</td>\n",
       "    </tr>\n",
       "    <tr>\n",
       "      <th>1</th>\n",
       "      <td>Leslie Taylor</td>\n",
       "      <td>Brickhaven</td>\n",
       "      <td>USA</td>\n",
       "      <td>6586.02</td>\n",
       "    </tr>\n",
       "    <tr>\n",
       "      <th>2</th>\n",
       "      <td>Franco Ricotti</td>\n",
       "      <td>Milan</td>\n",
       "      <td>Italy</td>\n",
       "      <td>9532.93</td>\n",
       "    </tr>\n",
       "    <tr>\n",
       "      <th>3</th>\n",
       "      <td>Carine  Schmitt</td>\n",
       "      <td>Nantes</td>\n",
       "      <td>France</td>\n",
       "      <td>10063.80</td>\n",
       "    </tr>\n",
       "    <tr>\n",
       "      <th>4</th>\n",
       "      <td>Thomas  Smith</td>\n",
       "      <td>London</td>\n",
       "      <td>UK</td>\n",
       "      <td>10868.04</td>\n",
       "    </tr>\n",
       "  </tbody>\n",
       "</table>\n",
       "</div>"
      ],
      "text/plain": [
       "     customer_name        city country  profit_per_cus\n",
       "0       Mary Young    Glendale     USA         2610.87\n",
       "1    Leslie Taylor  Brickhaven     USA         6586.02\n",
       "2   Franco Ricotti       Milan   Italy         9532.93\n",
       "3  Carine  Schmitt      Nantes  France        10063.80\n",
       "4    Thomas  Smith      London      UK        10868.04"
      ]
     },
     "execution_count": 76,
     "metadata": {},
     "output_type": "execute_result"
    }
   ],
   "source": [
    "top_5_low_profit"
   ]
  },
  {
   "cell_type": "code",
   "execution_count": 79,
   "id": "78c73fc1",
   "metadata": {},
   "outputs": [
    {
     "data": {
      "image/png": "[encoded data removed]",
      "text/plain": [
       "<Figure size 640x480 with 1 Axes>"
      ]
     },
     "metadata": {},
     "output_type": "display_data"
    }
   ],
   "source": [
    "plt.barh(top_5_low_profit['customer_name'],top_5_low_profit['profit_per_cus'])\n",
    "plt.xlabel('Profit')\n",
    "plt.ylabel('Customer Name')\n",
    "plt.title('Top 5 khách hàng ít tương tác nhất')\n",
    "plt.show()"
   ]
  },
  {
   "cell_type": "markdown",
   "id": "52bfe591",
   "metadata": {},
   "source": [
    "=> Từ kết quả truy vấn trên, chúng ta có thể xác định được các khách hàng VIP và khách hàng có ít tương tác nhất. Từ đó, chúng ta nên có những phần thưởng, dịch vụ ưu tiên dành cho những khách hàng trung thành để giữ chân họ. Ngoài ra, đối với những khách hàng ít tương tác với cửa hàng, chúng ta cần tiến hành khảo sát phản hồi của họ để hiểu rõ hơn về sở thích của họ. Bên cạnh đó, chúng ta cũng cần tạo ra những chiến dịch giảm giá, ưu đãi để tăng doanh số bán hàng."
   ]
  },
  {
   "cell_type": "markdown",
   "id": "5cd1f9cb",
   "metadata": {},
   "source": [
    "## •\tCâu hỏi 3: Chúng ta có thể chi bao nhiêu để thu hút khách hàng mới?"
   ]
  },
  {
   "cell_type": "markdown",
   "id": "be8a4629",
   "metadata": {},
   "source": [
    "- Trước khi trả lời câu hỏi này, chúng ta cần tìm số lượng khách hàng mới đến mỗi tháng. Bằng cách đó, chúng ta có thể kiểm tra xem liệu việc chi tiền để thu hút khách hàng mới có đáng hay không. \n",
    "- Truy vấn dưới đây giúp tìm kiếm lượng khách hàng mới mỗi tháng:\n"
   ]
  },
  {
   "cell_type": "code",
   "execution_count": 95,
   "id": "e3854acb",
   "metadata": {},
   "outputs": [],
   "source": [
    "query_6 = '''\n",
    "WITH \n",
    "payment_with_year_month_table AS\n",
    "(\n",
    "SELECT *,\n",
    "       CAST( SUBSTRING(CONVERT(varchar(15),paymentdate,112),1,4) AS INT)*100 + CAST(SUBSTRING(CONVERT(varchar(15),paymentdate,112),5,2) AS INT) as year_month\n",
    "  FROM payments AS p\n",
    "),\n",
    "customers_by_month_table AS\n",
    "(\n",
    "  SELECT p1.year_month,\n",
    "       COUNT(*) AS number_of_customers,\n",
    "       SUM(p1.amount) AS total\n",
    "    FROM payment_with_year_month_table p1\n",
    "GROUP BY p1.year_month\n",
    "),\n",
    "new_customers_by_month_table AS \n",
    "(\n",
    "  SELECT p1.year_month,\n",
    "         COUNT(*) AS number_of_new_customers,\n",
    "         SUM(p1.amount) AS new_customer_total,\n",
    "        (SELECT number_of_customers \n",
    "           FROM customers_by_month_table AS c\n",
    "          WHERE c.year_month = p1.year_month) AS number_of_customers,\n",
    "        (SELECT total \n",
    "           FROM customers_by_month_table AS c\n",
    "          WHERE c.year_month = p1.year_month) AS total\n",
    "    FROM payment_with_year_month_table p1\n",
    "   WHERE p1.customerNumber NOT IN (SELECT customerNumber\n",
    "                                   FROM payment_with_year_month_table AS p2\n",
    "                                   WHERE p2.year_month < p1.year_month)\n",
    "GROUP BY p1.year_month\n",
    ")\n",
    "SELECT year_month,\n",
    " ROUND(number_of_new_customers *100/number_of_customers,1) AS number_of_new_customers_props,\n",
    " ROUND(new_customer_total*100/total,1) AS new_customers_total_props\n",
    "  FROM new_customers_by_month_table\n",
    "\n",
    "'''"
   ]
  },
  {
   "cell_type": "code",
   "execution_count": 98,
   "id": "58d30226",
   "metadata": {},
   "outputs": [
    {
     "name": "stderr",
     "output_type": "stream",
     "text": [
      "C:\\Users\\DELL\\AppData\\Local\\Temp\\ipykernel_13584\\2517856258.py:1: UserWarning: pandas only supports SQLAlchemy connectable (engine/connection) or database string URI or sqlite3 DBAPI2 connection. Other DBAPI2 objects are not tested. Please consider using SQLAlchemy.\n",
      "  new_cus = pd.read_sql_query(query_6, conn)\n"
     ]
    }
   ],
   "source": [
    "new_cus = pd.read_sql_query(query_6, conn)"
   ]
  },
  {
   "cell_type": "code",
   "execution_count": 99,
   "id": "3182b11e",
   "metadata": {},
   "outputs": [
    {
     "data": {
      "text/html": [
       "<div>\n",
       "<style scoped>\n",
       "    .dataframe tbody tr th:only-of-type {\n",
       "        vertical-align: middle;\n",
       "    }\n",
       "\n",
       "    .dataframe tbody tr th {\n",
       "        vertical-align: top;\n",
       "    }\n",
       "\n",
       "    .dataframe thead th {\n",
       "        text-align: right;\n",
       "    }\n",
       "</style>\n",
       "<table border=\"1\" class=\"dataframe\">\n",
       "  <thead>\n",
       "    <tr style=\"text-align: right;\">\n",
       "      <th></th>\n",
       "      <th>year_month</th>\n",
       "      <th>number_of_new_customers_props</th>\n",
       "      <th>new_customers_total_props</th>\n",
       "    </tr>\n",
       "  </thead>\n",
       "  <tbody>\n",
       "    <tr>\n",
       "      <th>0</th>\n",
       "      <td>200301</td>\n",
       "      <td>100</td>\n",
       "      <td>100.0</td>\n",
       "    </tr>\n",
       "    <tr>\n",
       "      <th>1</th>\n",
       "      <td>200302</td>\n",
       "      <td>100</td>\n",
       "      <td>100.0</td>\n",
       "    </tr>\n",
       "    <tr>\n",
       "      <th>2</th>\n",
       "      <td>200303</td>\n",
       "      <td>100</td>\n",
       "      <td>100.0</td>\n",
       "    </tr>\n",
       "    <tr>\n",
       "      <th>3</th>\n",
       "      <td>200304</td>\n",
       "      <td>100</td>\n",
       "      <td>100.0</td>\n",
       "    </tr>\n",
       "    <tr>\n",
       "      <th>4</th>\n",
       "      <td>200305</td>\n",
       "      <td>100</td>\n",
       "      <td>100.0</td>\n",
       "    </tr>\n",
       "    <tr>\n",
       "      <th>5</th>\n",
       "      <td>200306</td>\n",
       "      <td>100</td>\n",
       "      <td>100.0</td>\n",
       "    </tr>\n",
       "    <tr>\n",
       "      <th>6</th>\n",
       "      <td>200307</td>\n",
       "      <td>75</td>\n",
       "      <td>68.3</td>\n",
       "    </tr>\n",
       "    <tr>\n",
       "      <th>7</th>\n",
       "      <td>200308</td>\n",
       "      <td>66</td>\n",
       "      <td>54.2</td>\n",
       "    </tr>\n",
       "    <tr>\n",
       "      <th>8</th>\n",
       "      <td>200309</td>\n",
       "      <td>80</td>\n",
       "      <td>95.9</td>\n",
       "    </tr>\n",
       "    <tr>\n",
       "      <th>9</th>\n",
       "      <td>200310</td>\n",
       "      <td>69</td>\n",
       "      <td>69.3</td>\n",
       "    </tr>\n",
       "    <tr>\n",
       "      <th>10</th>\n",
       "      <td>200311</td>\n",
       "      <td>57</td>\n",
       "      <td>53.9</td>\n",
       "    </tr>\n",
       "    <tr>\n",
       "      <th>11</th>\n",
       "      <td>200312</td>\n",
       "      <td>60</td>\n",
       "      <td>54.9</td>\n",
       "    </tr>\n",
       "    <tr>\n",
       "      <th>12</th>\n",
       "      <td>200401</td>\n",
       "      <td>33</td>\n",
       "      <td>41.1</td>\n",
       "    </tr>\n",
       "    <tr>\n",
       "      <th>13</th>\n",
       "      <td>200402</td>\n",
       "      <td>33</td>\n",
       "      <td>26.5</td>\n",
       "    </tr>\n",
       "    <tr>\n",
       "      <th>14</th>\n",
       "      <td>200403</td>\n",
       "      <td>54</td>\n",
       "      <td>55.0</td>\n",
       "    </tr>\n",
       "    <tr>\n",
       "      <th>15</th>\n",
       "      <td>200404</td>\n",
       "      <td>40</td>\n",
       "      <td>40.3</td>\n",
       "    </tr>\n",
       "    <tr>\n",
       "      <th>16</th>\n",
       "      <td>200405</td>\n",
       "      <td>12</td>\n",
       "      <td>17.3</td>\n",
       "    </tr>\n",
       "    <tr>\n",
       "      <th>17</th>\n",
       "      <td>200406</td>\n",
       "      <td>33</td>\n",
       "      <td>43.9</td>\n",
       "    </tr>\n",
       "    <tr>\n",
       "      <th>18</th>\n",
       "      <td>200407</td>\n",
       "      <td>10</td>\n",
       "      <td>6.5</td>\n",
       "    </tr>\n",
       "    <tr>\n",
       "      <th>19</th>\n",
       "      <td>200408</td>\n",
       "      <td>18</td>\n",
       "      <td>26.2</td>\n",
       "    </tr>\n",
       "    <tr>\n",
       "      <th>20</th>\n",
       "      <td>200409</td>\n",
       "      <td>40</td>\n",
       "      <td>56.4</td>\n",
       "    </tr>\n",
       "  </tbody>\n",
       "</table>\n",
       "</div>"
      ],
      "text/plain": [
       "    year_month  number_of_new_customers_props  new_customers_total_props\n",
       "0       200301                            100                      100.0\n",
       "1       200302                            100                      100.0\n",
       "2       200303                            100                      100.0\n",
       "3       200304                            100                      100.0\n",
       "4       200305                            100                      100.0\n",
       "5       200306                            100                      100.0\n",
       "6       200307                             75                       68.3\n",
       "7       200308                             66                       54.2\n",
       "8       200309                             80                       95.9\n",
       "9       200310                             69                       69.3\n",
       "10      200311                             57                       53.9\n",
       "11      200312                             60                       54.9\n",
       "12      200401                             33                       41.1\n",
       "13      200402                             33                       26.5\n",
       "14      200403                             54                       55.0\n",
       "15      200404                             40                       40.3\n",
       "16      200405                             12                       17.3\n",
       "17      200406                             33                       43.9\n",
       "18      200407                             10                        6.5\n",
       "19      200408                             18                       26.2\n",
       "20      200409                             40                       56.4"
      ]
     },
     "execution_count": 99,
     "metadata": {},
     "output_type": "execute_result"
    }
   ],
   "source": [
    "new_cus"
   ]
  },
  {
   "cell_type": "markdown",
   "id": "a5d28051",
   "metadata": {},
   "source": [
    "=> Từ bảng trên có thể nhận thấy số lượng khách hàng đã giảm kể từ năm 2003 và giá trị thấp nhất là vào năm 2004. Năm 2005 có trong cơ sở dữ liệu nhưng lại không có trong bảng truy vấn trên, điều này có nghĩa là cửa hàng không có bất kỳ khách hàng mới nào kể từ tháng 9/2004. Như thế, ta có thể đưa ra nhận định rằng việc chi tiền để có được khách hàng mới là hợp lý.\n",
    "\n",
    "- Để xác định số tiền mà cửa hàng có thể chi để thu hút khách hàng mới, chúng ta có thể tính giá trị vòng đời khách khàng (LTV), đại diện cho số tiền trung bình mà khách hàng tạo ra. Sau đó, chúng ta có thể xác định số tiền mà có thể chi cho marketing. \n",
    "\n",
    "- Lợi nhuận trung bình của mỗi khách hàng được tính như sau:\n"
   ]
  },
  {
   "cell_type": "code",
   "execution_count": 102,
   "id": "c718d6ba",
   "metadata": {},
   "outputs": [],
   "source": [
    "query_7 = '''\n",
    "WITH profit AS\n",
    "(\n",
    "  SELECT customerNumber,\n",
    "         SUM(quantityOrdered * (priceEach - buyPrice)) as profit_per_cus\n",
    "    FROM products AS p \n",
    "    JOIN  orderdetails AS od ON p.productCode = od.productCode\n",
    "    JOIN orders AS o ON o.orderNumber = od.orderNumber\n",
    "GROUP BY customerNumber\n",
    ")\n",
    "SELECT ROUND(AVG(profit_per_cus),2) AS LTV\n",
    "  FROM profit\n",
    "'''"
   ]
  },
  {
   "cell_type": "code",
   "execution_count": 103,
   "id": "d97ff24f",
   "metadata": {},
   "outputs": [
    {
     "name": "stderr",
     "output_type": "stream",
     "text": [
      "C:\\Users\\DELL\\AppData\\Local\\Temp\\ipykernel_13584\\1217786535.py:1: UserWarning: pandas only supports SQLAlchemy connectable (engine/connection) or database string URI or sqlite3 DBAPI2 connection. Other DBAPI2 objects are not tested. Please consider using SQLAlchemy.\n",
      "  LTV = pd.read_sql_query(query_7,conn)\n"
     ]
    }
   ],
   "source": [
    "LTV = pd.read_sql_query(query_7,conn)"
   ]
  },
  {
   "cell_type": "code",
   "execution_count": 104,
   "id": "436e5e2b",
   "metadata": {},
   "outputs": [
    {
     "data": {
      "text/html": [
       "<div>\n",
       "<style scoped>\n",
       "    .dataframe tbody tr th:only-of-type {\n",
       "        vertical-align: middle;\n",
       "    }\n",
       "\n",
       "    .dataframe tbody tr th {\n",
       "        vertical-align: top;\n",
       "    }\n",
       "\n",
       "    .dataframe thead th {\n",
       "        text-align: right;\n",
       "    }\n",
       "</style>\n",
       "<table border=\"1\" class=\"dataframe\">\n",
       "  <thead>\n",
       "    <tr style=\"text-align: right;\">\n",
       "      <th></th>\n",
       "      <th>LTV</th>\n",
       "    </tr>\n",
       "  </thead>\n",
       "  <tbody>\n",
       "    <tr>\n",
       "      <th>0</th>\n",
       "      <td>39039.59</td>\n",
       "    </tr>\n",
       "  </tbody>\n",
       "</table>\n",
       "</div>"
      ],
      "text/plain": [
       "        LTV\n",
       "0  39039.59"
      ]
     },
     "execution_count": 104,
     "metadata": {},
     "output_type": "execute_result"
    }
   ],
   "source": [
    "LTV"
   ]
  },
  {
   "cell_type": "markdown",
   "id": "b2612140",
   "metadata": {},
   "source": [
    "=> Từ kết quả truy vấn trên, có thể thấy giá trị vòng đời khách hàng tại cửa hàng là 39,040 USD. Điều này có nghĩa là với mỗi khách hàng mới, cửa hàng sẽ kiếm được lợi nhuận là 39,040 USD. Từ thông tin này chúng ta có thể dự đoán số tiền mà cửa hàng có thể chi trả cho việc thu hút khách hàng mới, đồng thời duy trì hoặc tăng mức lợi nhuận của mình. "
   ]
  },
  {
   "cell_type": "markdown",
   "id": "fdd092e4",
   "metadata": {},
   "source": [
    "# TỔNG KẾT"
   ]
  },
  {
   "cell_type": "markdown",
   "id": "d3fde2ad",
   "metadata": {},
   "source": [
    "CÂU HỎI 1: Chúng ta nên đặt hàng nhiều hay ít sản phẩm nào?\n",
    "- Sau khi phân tích kết quả truy vấn đưa ra 10 sản phẩm có lượng hàng tồn kho thấp và hiệu suất sản phẩm cao, nhận thấy trong 10 sản phẩm trên thì có 6 sản phẩm thuộc dòng sản phẩm ‘Classic Cars’. Những sản phẩm này được bán thường xuyên với hiệu suất sản phẩm cao. Vì vậy, chúng ta nên bổ sung chúng lại chúng thường xuyên.\n",
    "\n",
    "CÂU HỎI 2:Chúng ta nên kết hợp chiến lược tiếp thị và truyền thông với hành vi của khách hàng như thế nào?\n",
    "- Từ kết quả truy vấn trên, chúng ta có thể xác định được các khách hàng VIP và khách hàng có ít tương tác nhất. Từ đó, chúng ta nên có những phần thưởng, dịch vụ ưu tiên dành cho những khách hàng trung thành để giữ chân họ. Ngoài ra, đối với những khách hàng ít tương tác với cửa hàng, chúng ta cần tiến hành khảo sát phản hồi của họ để hiểu rõ hơn về sở thích của họ. Bên cạnh đó, chúng ta cũng cần tạo ra những chiến dịch giảm giá, ưu đãi để tăng doanh số bán hàng.\n",
    "\n",
    "CÂU HỎI 3:Chúng ta có thể chi bao nhiêu để thu hút khách hàng mới?\n",
    "- Có thể thấy giá trị vòng đời khách hàng tại cửa hàng là 39,040 USD. Điều này có nghĩa là với mỗi khách hàng mới, cửa hàng sẽ kiếm được lợi nhuận là 39,040 USD. Từ thông tin này chúng ta có thể dự đoán số tiền mà cửa hàng có thể chi trả cho việc thu hút khách hàng mới, đồng thời duy trì hoặc tăng mức lợi nhuận của mình. "
   ]
  },
  {
   "cell_type": "code",
   "execution_count": null,
   "id": "2914b097",
   "metadata": {},
   "outputs": [],
   "source": []
  }
 ],
 "metadata": {
  "kernelspec": {
   "display_name": "Python 3 (ipykernel)",
   "language": "python",
   "name": "python3"
  },
  "language_info": {
   "codemirror_mode": {
    "name": "ipython",
    "version": 3
   },
   "file_extension": ".py",
   "mimetype": "text/x-python",
   "name": "python",
   "nbconvert_exporter": "python",
   "pygments_lexer": "ipython3",
   "version": "3.11.4"
  }
 },
 "nbformat": 4,
 "nbformat_minor": 5
}
